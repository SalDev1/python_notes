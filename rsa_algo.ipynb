{
 "cells": [
  {
   "cell_type": "code",
   "execution_count": 2,
   "metadata": {},
   "outputs": [
    {
     "name": "stdout",
     "output_type": "stream",
     "text": [
      "Original Message is:  10\n",
      "Encrypted Message is:  12.0\n",
      "Decrypted Message:  10.0\n"
     ]
    }
   ],
   "source": [
    "import math\n",
    "import random\n",
    "p = 2\n",
    "q = 7\n",
    "\n",
    "n = p*q\n",
    "val = (p-1)*(q-1)\n",
    "\n",
    "\n",
    "def choose_public(val):\n",
    "    e = 2\n",
    "    for i in range(2, val):\n",
    "        if ((math.gcd(i, val) == 1) and (math.gcd(i, n) == 1)):\n",
    "            e = i\n",
    "            return e\n",
    "\n",
    "\n",
    "e = choose_public(val)\n",
    "\n",
    "\n",
    "def encrypt(me):\n",
    "    en = math.pow(me, e)\n",
    "    c = en % n\n",
    "    print(\"Encrypted Message is: \", c)\n",
    "    return c\n",
    "\n",
    "\n",
    "def decrypt(c):\n",
    "    d_lis = []\n",
    "    count = 0\n",
    "    d = 1\n",
    "    for i in range(2, val*20):\n",
    "        if (((i*e) % val == 1) and count < 4):\n",
    "            d_lis.append(i)\n",
    "            count = count + 1\n",
    "            if (count == 3):\n",
    "                d = random.choice(d_lis)\n",
    "                break\n",
    "\n",
    "    val2 = math.pow(c, d)\n",
    "    return (val2 % n)\n",
    "\n",
    "\n",
    "message = int(input(\"Enter the message to be encrypted: \"))\n",
    "\n",
    "print(\"Original Message is: \", message)\n",
    "c = encrypt(message)\n",
    "\n",
    "decrypted = decrypt(c)\n",
    "print(\"Decrypted Message: \", decrypted)\n"
   ]
  }
 ],
 "metadata": {
  "interpreter": {
   "hash": "247ab06e135bb35fa78c5eff31b2a9a0050dcb5fb773c2631d2a29ac689eeccb"
  },
  "kernelspec": {
   "display_name": "Python 3.9.7 64-bit",
   "language": "python",
   "name": "python3"
  },
  "language_info": {
   "codemirror_mode": {
    "name": "ipython",
    "version": 3
   },
   "file_extension": ".py",
   "mimetype": "text/x-python",
   "name": "python",
   "nbconvert_exporter": "python",
   "pygments_lexer": "ipython3",
   "version": "3.9.7"
  },
  "orig_nbformat": 4
 },
 "nbformat": 4,
 "nbformat_minor": 2
}
