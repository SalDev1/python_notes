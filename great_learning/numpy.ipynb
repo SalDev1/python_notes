{
 "cells": [
  {
   "cell_type": "markdown",
   "metadata": {},
   "source": [
    "Numpy python library is a python library is a collection of functions and methods that allows you to perform many actions without writing your code.\n",
    "For numerical computing , we have numpy library.\n",
    "For visualization, we have got many libraries like matplotlib.\n",
    "For data manuplication , we have got pandas.\n",
    "For machine learning , we have sckit learn.\n",
    "For deep learning frameworks , we have tensorflow and keras.\n",
    "\n",
    "The purpose of using this libraries is not to write the entire code from the\n",
    "beginning.\n",
    "\n",
    "Numpy stands for numerical python and is the core library for numeric and scientific computing. These methods and functions are part of the numpy library itself.\n",
    "\n",
    "Numpy:-\n",
    "It consists of multi-dimensional array objects and a collection of routines for processing those arrays."
   ]
  },
  {
   "cell_type": "code",
   "execution_count": 6,
   "metadata": {},
   "outputs": [
    {
     "name": "stdout",
     "output_type": "stream",
     "text": [
      "[10  1]\n",
      "[[10 20 30 40]\n",
      " [40 30 20 10]]\n"
     ]
    },
    {
     "data": {
      "text/plain": [
       "numpy.ndarray"
      ]
     },
     "execution_count": 6,
     "metadata": {},
     "output_type": "execute_result"
    }
   ],
   "source": [
    "import numpy as np\n",
    "# Single-dimensinal numpy array.\n",
    "n1 = np.array([10,1])\n",
    "# Multi -dimensional numpy array.(Lists of Lists , you can create matrix out of it)\n",
    "n2 = np.array([[10,20,30,40] , [40,30,20,10]]);\n",
    "\n",
    "print(n1)\n",
    "print(n2)\n",
    " "
   ]
  },
  {
   "cell_type": "code",
   "execution_count": 7,
   "metadata": {},
   "outputs": [
    {
     "data": {
      "text/plain": [
       "numpy.ndarray"
      ]
     },
     "execution_count": 7,
     "metadata": {},
     "output_type": "execute_result"
    }
   ],
   "source": [
    "type(n1)\n",
    "type(n2)\n"
   ]
  },
  {
   "cell_type": "code",
   "execution_count": 10,
   "metadata": {},
   "outputs": [
    {
     "data": {
      "text/plain": [
       "array([[0., 0.],\n",
       "       [0., 0.]])"
      ]
     },
     "execution_count": 10,
     "metadata": {},
     "output_type": "execute_result"
    }
   ],
   "source": [
    "# Initialize Numpy array with zeros \n",
    "# zeros(row , columns)\n",
    "n3 = np.zeros((2,2))\n",
    "n3"
   ]
  },
  {
   "cell_type": "code",
   "execution_count": 9,
   "metadata": {},
   "outputs": [
    {
     "data": {
      "text/plain": [
       "array([[0., 0., 0., 0., 0.],\n",
       "       [0., 0., 0., 0., 0.],\n",
       "       [0., 0., 0., 0., 0.],\n",
       "       [0., 0., 0., 0., 0.],\n",
       "       [0., 0., 0., 0., 0.]])"
      ]
     },
     "execution_count": 9,
     "metadata": {},
     "output_type": "execute_result"
    }
   ],
   "source": [
    "n4 = np.zeros((5,5))\n",
    "n4"
   ]
  },
  {
   "cell_type": "code",
   "execution_count": 13,
   "metadata": {},
   "outputs": [
    {
     "data": {
      "text/plain": [
       "array([[10, 10, 10],\n",
       "       [10, 10, 10],\n",
       "       [10, 10, 10]])"
      ]
     },
     "execution_count": 13,
     "metadata": {},
     "output_type": "execute_result"
    }
   ],
   "source": [
    "# Initializing NumPy Array\n",
    "n5 = np.full((3,3),5)\n",
    "n5 "
   ]
  },
  {
   "cell_type": "code",
   "execution_count": 14,
   "metadata": {},
   "outputs": [
    {
     "data": {
      "text/plain": [
       "array([[24, 24, 24, 24, 24, 24, 24, 24, 24],\n",
       "       [24, 24, 24, 24, 24, 24, 24, 24, 24],\n",
       "       [24, 24, 24, 24, 24, 24, 24, 24, 24],\n",
       "       [24, 24, 24, 24, 24, 24, 24, 24, 24]])"
      ]
     },
     "execution_count": 14,
     "metadata": {},
     "output_type": "execute_result"
    }
   ],
   "source": [
    "n6 = np.full((4,9) , 24)\n",
    "n6"
   ]
  },
  {
   "cell_type": "code",
   "execution_count": 20,
   "metadata": {},
   "outputs": [
    {
     "name": "stdout",
     "output_type": "stream",
     "text": [
      "[10 11 12 13 14 15 16 17 18 19]\n",
      "[10 12 14 16 18 20 22 24 26 28 30 32 34 36 38 40 42 44 46 48 50 52 54]\n"
     ]
    }
   ],
   "source": [
    "# Initialize NumPy array with a particular range\n",
    "n7 = np.arange(10,20)\n",
    "print(n7)\n",
    "\n",
    "n8 = np.arange(10,56,2)\n",
    "print(n8)"
   ]
  },
  {
   "cell_type": "code",
   "execution_count": 26,
   "metadata": {},
   "outputs": [
    {
     "name": "stdout",
     "output_type": "stream",
     "text": [
      "[72 20 76 53 68]\n",
      "[654 291 780 454 370 962 327 676 911 722]\n"
     ]
    }
   ],
   "source": [
    "# Initialize NumPy Array with random numbers.\n",
    "n9 = np.random.randint(1,100,5);\n",
    "print(n9)\n",
    "\n",
    "n10 = np.random.randint(100,1000,10);\n",
    "print(n10)"
   ]
  },
  {
   "cell_type": "code",
   "execution_count": 32,
   "metadata": {},
   "outputs": [
    {
     "data": {
      "text/plain": [
       "(2, 3)"
      ]
     },
     "execution_count": 32,
     "metadata": {},
     "output_type": "execute_result"
    }
   ],
   "source": [
    "# Checking the shape of the NumPy Array.\n",
    "# Calling the multidimensional array.\n",
    "n11 = np.array([[1,2,3],[4,5,6]])\n",
    "n11.shape\n",
    "# It will give you the tuple of two parameters (rows, columns)"
   ]
  },
  {
   "cell_type": "code",
   "execution_count": 33,
   "metadata": {},
   "outputs": [
    {
     "data": {
      "text/plain": [
       "(3, 2)"
      ]
     },
     "execution_count": 33,
     "metadata": {},
     "output_type": "execute_result"
    }
   ],
   "source": [
    "n11.shape = (3,2)\n",
    "n11.shape"
   ]
  },
  {
   "cell_type": "markdown",
   "metadata": {},
   "source": [
    "Joining NumPy Arrays.\n",
    "1] vstack == priority to both rows and columns.(vertical stack two arrays on top of the each other)\n",
    "2] hstack = priority to row. (horizontally stack two numpy arrays)\n",
    "3] column_stack = priority to column.\n",
    "(First numpy array to first column and second numpy array to second column)"
   ]
  },
  {
   "cell_type": "code",
   "execution_count": 34,
   "metadata": {},
   "outputs": [
    {
     "data": {
      "text/plain": [
       "array([[1, 2, 3],\n",
       "       [4, 5, 6]])"
      ]
     },
     "execution_count": 34,
     "metadata": {},
     "output_type": "execute_result"
    }
   ],
   "source": [
    "n12 = np.array([1,2,3])\n",
    "n13 = np.array([4,5,6])\n",
    "\n",
    "np.vstack((n12 , n13))"
   ]
  },
  {
   "cell_type": "code",
   "execution_count": 35,
   "metadata": {},
   "outputs": [
    {
     "data": {
      "text/plain": [
       "array([40, 50, 60, 10, 30, 40])"
      ]
     },
     "execution_count": 35,
     "metadata": {},
     "output_type": "execute_result"
    }
   ],
   "source": [
    "n14 = np.array([40,50,60])\n",
    "n15 = np.array([10,30,40])\n",
    "\n",
    "np.hstack((n14,n15))"
   ]
  },
  {
   "cell_type": "code",
   "execution_count": 36,
   "metadata": {},
   "outputs": [
    {
     "data": {
      "text/plain": [
       "array([[ 60,  90],\n",
       "       [ 70, 100],\n",
       "       [ 80, 120]])"
      ]
     },
     "execution_count": 36,
     "metadata": {},
     "output_type": "execute_result"
    }
   ],
   "source": [
    "n16 = np.array([60,70,80])\n",
    "n17 = np.array([90,100,120])\n",
    "\n",
    "np.column_stack((n16,n17))"
   ]
  },
  {
   "cell_type": "markdown",
   "metadata": {},
   "source": [
    "Numpy Intersection and Difference\n",
    "Intersection , set difference etc."
   ]
  },
  {
   "cell_type": "code",
   "execution_count": 41,
   "metadata": {},
   "outputs": [
    {
     "name": "stdout",
     "output_type": "stream",
     "text": [
      "[50 60]\n",
      "[10 20 30 40]\n",
      "[70 80 90]\n"
     ]
    }
   ],
   "source": [
    "n1 = np.array([10,20,30,40,50,60])\n",
    "n2 = np.array([50,60,70,80,90])\n",
    "\n",
    "print(np.intersect1d(n1,n2))\n",
    "print(np.setdiff1d(n1,n2))\n",
    "print(np.setdiff1d(n2,n1))"
   ]
  },
  {
   "cell_type": "code",
   "execution_count": 46,
   "metadata": {},
   "outputs": [
    {
     "data": {
      "text/plain": [
       "array([3, 7])"
      ]
     },
     "execution_count": 46,
     "metadata": {},
     "output_type": "execute_result"
    }
   ],
   "source": [
    "# Addition of NumPy Arrays\n",
    "n3 = np.array([1,2])\n",
    "n4 = np.array([3,4])\n",
    "\n",
    "np.sum([n3,n4])\n",
    "\n",
    "np.sum([n3,n4], axis=0)\n",
    "np.sum([n3 ,n4],axis=1) "
   ]
  },
  {
   "cell_type": "code",
   "execution_count": 50,
   "metadata": {},
   "outputs": [
    {
     "name": "stdout",
     "output_type": "stream",
     "text": [
      "[40 60]\n",
      "[30 70]\n"
     ]
    }
   ],
   "source": [
    "n3 = np.array([10, 20])\n",
    "n4 = np.array([30, 40])\n",
    "\n",
    "# First element of numpy array1 is added with the first element of numpy array2\n",
    "print(np.sum([n3,n4],axis=0))\n",
    "print(np.sum([n3,n4],axis=1))"
   ]
  },
  {
   "cell_type": "code",
   "execution_count": 53,
   "metadata": {},
   "outputs": [
    {
     "name": "stdout",
     "output_type": "stream",
     "text": [
      "[11 21 31]\n",
      "[20 40 60]\n",
      "[ 5. 10. 15.]\n",
      "[ 9 19 29]\n"
     ]
    }
   ],
   "source": [
    "# Simple Mathematical Operations.\n",
    "n1 = np.array([10,20,30])\n",
    "print(n1 + 1)\n",
    "\n",
    "print(n1*2)\n",
    "\n",
    "print(n1/2)\n",
    "\n",
    "print(n1-1)"
   ]
  },
  {
   "cell_type": "code",
   "execution_count": 54,
   "metadata": {},
   "outputs": [
    {
     "name": "stdout",
     "output_type": "stream",
     "text": [
      "36.666666666666664\n",
      "19.720265943665385\n",
      "35.0\n"
     ]
    }
   ],
   "source": [
    "# Other math functions\n",
    "n1 = np.array([10,48,23,9,45,61])\n",
    "# Mean\n",
    "print(np.mean(n1))\n",
    "\n",
    "# Standard Deviation\n",
    "print(np.std(n1))\n",
    "\n",
    "# Median\n",
    "print(np.median(n1))"
   ]
  },
  {
   "cell_type": "markdown",
   "metadata": {},
   "source": [
    "Numpy Save and Load"
   ]
  },
  {
   "cell_type": "code",
   "execution_count": 55,
   "metadata": {},
   "outputs": [],
   "source": [
    "n1 = np.array([10,20,30,40,50,60])\n",
    "np.save('my_numpy',n1)\n",
    "# Saving Numpy Array."
   ]
  },
  {
   "cell_type": "code",
   "execution_count": 56,
   "metadata": {},
   "outputs": [
    {
     "data": {
      "text/plain": [
       "array([10, 20, 30, 40, 50, 60])"
      ]
     },
     "execution_count": 56,
     "metadata": {},
     "output_type": "execute_result"
    }
   ],
   "source": [
    "n2 = np.load('my_numpy.npy')\n",
    "# Loading the numpy array.\n",
    "n2"
   ]
  }
 ],
 "metadata": {
  "interpreter": {
   "hash": "247ab06e135bb35fa78c5eff31b2a9a0050dcb5fb773c2631d2a29ac689eeccb"
  },
  "kernelspec": {
   "display_name": "Python 3.9.7 64-bit",
   "language": "python",
   "name": "python3"
  },
  "language_info": {
   "codemirror_mode": {
    "name": "ipython",
    "version": 3
   },
   "file_extension": ".py",
   "mimetype": "text/x-python",
   "name": "python",
   "nbconvert_exporter": "python",
   "pygments_lexer": "ipython3",
   "version": "3.9.7"
  },
  "orig_nbformat": 4
 },
 "nbformat": 4,
 "nbformat_minor": 2
}
