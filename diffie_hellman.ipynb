{
 "cells": [
  {
   "cell_type": "code",
   "execution_count": 2,
   "metadata": {},
   "outputs": [
    {
     "name": "stdout",
     "output_type": "stream",
     "text": [
      "Public Key of Alice:  4.0\n",
      "Public key of Bob:  6.0\n",
      "Shared key received by Alice:  1.0\n",
      "Shared key received by Bob:  1.0\n"
     ]
    }
   ],
   "source": [
    "import math\n",
    "import random\n",
    "\n",
    "p = int(input(\"Enter a large(small) prime number: \"))\n",
    "g = int(input(\"Enter another number,... because you have to!: \"))\n",
    "\n",
    "p_lis = [i for i in range(1, p)]\n",
    "g_lis = [i for i in range(1, g)]\n",
    "\n",
    "x = random.choice(p_lis)\n",
    "y = random.choice(g_lis)\n",
    "\n",
    "\n",
    "def R_Calc(base, power, modded):\n",
    "    return(math.pow(base, power) % modded)\n",
    "\n",
    "\n",
    "def pub_A_B():\n",
    "    R1 = R_Calc(g, x, p)\n",
    "    R2 = R_Calc(g, y, p)\n",
    "    print(\"Public Key of Alice: \", R1)\n",
    "    print(\"Public key of Bob: \", R2)\n",
    "\n",
    "    shared_by_alice = R_Calc(R1, y, p)\n",
    "    shared_by_bob = R_Calc(R2, x, p)\n",
    "\n",
    "    print(\"Shared key received by Alice: \", shared_by_bob)\n",
    "    print(\"Shared key received by Bob: \", shared_by_alice)\n",
    "\n",
    "\n",
    "pub_A_B()\n"
   ]
  }
 ],
 "metadata": {
  "interpreter": {
   "hash": "247ab06e135bb35fa78c5eff31b2a9a0050dcb5fb773c2631d2a29ac689eeccb"
  },
  "kernelspec": {
   "display_name": "Python 3.9.7 64-bit",
   "language": "python",
   "name": "python3"
  },
  "language_info": {
   "codemirror_mode": {
    "name": "ipython",
    "version": 3
   },
   "file_extension": ".py",
   "mimetype": "text/x-python",
   "name": "python",
   "nbconvert_exporter": "python",
   "pygments_lexer": "ipython3",
   "version": "3.9.7"
  },
  "orig_nbformat": 4
 },
 "nbformat": 4,
 "nbformat_minor": 2
}
