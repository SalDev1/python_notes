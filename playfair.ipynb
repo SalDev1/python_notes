{
 "cells": [
  {
   "cell_type": "code",
   "execution_count": 6,
   "metadata": {},
   "outputs": [],
   "source": [
    "import string\n",
    "import itertools\n",
    "\n",
    "\n",
    "def chunker(seq, size):\n",
    "    it = iter(seq)\n",
    "    while True:\n",
    "        chunk = tuple(itertools.islice(it, size))\n",
    "        if not chunk:\n",
    "            return\n",
    "        yield chunk\n",
    "\n",
    "\n",
    "def prepare_input(dirty):\n",
    "    \"\"\"\n",
    "    Prepare the plaintext by up-casing it\n",
    "    and separating repeated letters with X's\n",
    "    \"\"\"\n",
    "\n",
    "    dirty = \"\".join([c.upper() for c in dirty if c in string.ascii_letters])\n",
    "    clean = \"\"\n",
    "\n",
    "    if len(dirty) < 2:\n",
    "        return dirty\n",
    "\n",
    "    for i in range(len(dirty) - 1):\n",
    "        clean += dirty[i]\n",
    "\n",
    "        if dirty[i] == dirty[i + 1]:\n",
    "            clean += \"X\"\n",
    "\n",
    "    clean += dirty[-1]\n",
    "\n",
    "    if len(clean) & 1:\n",
    "        clean += \"X\"\n",
    "\n",
    "    return clean\n",
    "\n",
    "\n",
    "def generate_table(key):\n",
    "\n",
    "    # I and J are used interchangeably to allow\n",
    "    # us to use a 5x5 table (25 letters)\n",
    "    alphabet = \"ABCDEFGHIKLMNOPQRSTUVWXYZ\"\n",
    "    # we're using a list instead of a '2d' array because it makes the math\n",
    "    # for setting up the table and doing the actual encoding/decoding simpler\n",
    "    table = []\n",
    "\n",
    "    # copy key chars into the table if they are in `alphabet` ignoring duplicates\n",
    "    for char in key.upper():\n",
    "        if char not in table and char in alphabet:\n",
    "            table.append(char)\n",
    "\n",
    "    # fill the rest of the table in with the remaining alphabet chars\n",
    "    for char in alphabet:\n",
    "        if char not in table:\n",
    "            table.append(char)\n",
    "\n",
    "    return table\n",
    "\n",
    "\n",
    "def encode(plaintext, key):\n",
    "    table = generate_table(key)\n",
    "    plaintext = prepare_input(plaintext)\n",
    "    ciphertext = \"\"\n",
    "\n",
    "    for char1, char2 in chunker(plaintext, 2):\n",
    "        row1, col1 = divmod(table.index(char1), 5)\n",
    "        row2, col2 = divmod(table.index(char2), 5)\n",
    "\n",
    "        if row1 == row2:\n",
    "            ciphertext += table[row1 * 5 + (col1 + 1) % 5]\n",
    "            ciphertext += table[row2 * 5 + (col2 + 1) % 5]\n",
    "        elif col1 == col2:\n",
    "            ciphertext += table[((row1 + 1) % 5) * 5 + col1]\n",
    "            ciphertext += table[((row2 + 1) % 5) * 5 + col2]\n",
    "        else:  # rectangle\n",
    "            ciphertext += table[row1 * 5 + col2]\n",
    "            ciphertext += table[row2 * 5 + col1]\n",
    "\n",
    "    return ciphertext\n",
    "\n",
    "\n",
    "def decode(ciphertext, key):\n",
    "    table = generate_table(key)\n",
    "    plaintext = \"\"\n",
    "\n",
    "    for char1, char2 in chunker(ciphertext, 2):\n",
    "        row1, col1 = divmod(table.index(char1), 5)\n",
    "        row2, col2 = divmod(table.index(char2), 5)\n",
    "\n",
    "        if row1 == row2:\n",
    "            plaintext += table[row1 * 5 + (col1 - 1) % 5]\n",
    "            plaintext += table[row2 * 5 + (col2 - 1) % 5]\n",
    "        elif col1 == col2:\n",
    "            plaintext += table[((row1 - 1) % 5) * 5 + col1]\n",
    "            plaintext += table[((row2 - 1) % 5) * 5 + col2]\n",
    "        else:  # rectangle\n",
    "            plaintext += table[row1 * 5 + col2]\n",
    "            plaintext += table[row2 * 5 + col1]\n",
    "\n",
    "    return plaintext\n"
   ]
  },
  {
   "cell_type": "code",
   "execution_count": 8,
   "metadata": {},
   "outputs": [
    {
     "name": "stdout",
     "output_type": "stream",
     "text": [
      "TNMOUA\n"
     ]
    }
   ],
   "source": [
    "print(encode(\"Salman\",\"UDDIN\"))"
   ]
  },
  {
   "cell_type": "code",
   "execution_count": 10,
   "metadata": {},
   "outputs": [
    {
     "name": "stdout",
     "output_type": "stream",
     "text": [
      "SALMAN\n"
     ]
    }
   ],
   "source": [
    "print(decode(\"TNMOUA\",\"UDDIN\"))"
   ]
  }
 ],
 "metadata": {
  "interpreter": {
   "hash": "247ab06e135bb35fa78c5eff31b2a9a0050dcb5fb773c2631d2a29ac689eeccb"
  },
  "kernelspec": {
   "display_name": "Python 3.9.7 64-bit",
   "language": "python",
   "name": "python3"
  },
  "language_info": {
   "codemirror_mode": {
    "name": "ipython",
    "version": 3
   },
   "file_extension": ".py",
   "mimetype": "text/x-python",
   "name": "python",
   "nbconvert_exporter": "python",
   "pygments_lexer": "ipython3",
   "version": "3.9.7"
  },
  "orig_nbformat": 4
 },
 "nbformat": 4,
 "nbformat_minor": 2
}
